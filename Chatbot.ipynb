{
 "cells": [
  {
   "cell_type": "code",
   "execution_count": 1,
   "id": "8ad273bc",
   "metadata": {},
   "outputs": [],
   "source": [
    "import torch\n",
    "from transformers import AutoModelForCausalLM, AutoTokenizer\n",
    "import speech_recognition as sr\n",
    "import pyttsx3\n",
    "\n",
    "tokenizer = AutoTokenizer.from_pretrained(\"microsoft/DialoGPT-large\")\n",
    "model = AutoModelForCausalLM.from_pretrained(\"microsoft/DialoGPT-large\")"
   ]
  },
  {
   "cell_type": "code",
   "execution_count": 2,
   "id": "bb9b63c5",
   "metadata": {},
   "outputs": [],
   "source": [
    "# Add color to the chats\n",
    "class Color:\n",
    "    PURPLE = '\\033[95m'\n",
    "    CYAN = '\\033[96m'\n",
    "    DARKCYAN = '\\033[36m'\n",
    "    BLUE = '\\033[94m'\n",
    "    GREEN = '\\033[92m'\n",
    "    YELLOW = '\\033[93m'\n",
    "    RED = '\\033[91m'\n",
    "    BOLD = '\\033[1m'\n",
    "    UNDERLINE = '\\033[4m'\n",
    "    END = '\\033[0m'\n",
    "\n",
    "# function to handle audio transcription  \n",
    "def get_audio():\n",
    "    r = sr.Recognizer()\n",
    "    mic = sr.Microphone()\n",
    "    with mic as source:\n",
    "        # read audio from mic\n",
    "        print(\"Listening...\")\n",
    "        audio = r.listen(source)\n",
    "        print(\"Recognizing...\")\n",
    "\n",
    "    try: \n",
    "        return str(r.recognize_google(audio))\n",
    "    except sr.UnknownValueError:\n",
    "        print(\"Could not understand speech... Please try again\")\n",
    "        get_audio()\n",
    "    except sr.RequestError as e:\n",
    "        print(\"Could not request results from Google Speech Recognition service; {}\".format(e))\n",
    "        try:\n",
    "            return str(r.recognize_sphinx(audio))\n",
    "        except Exception as e:\n",
    "            print(e)\n",
    "\n",
    "# Main function\n",
    "def main():\n",
    "    loop = True\n",
    "    step = 0\n",
    "    engine = pyttsx3.init()\n",
    "    engine.setProperty('rate', 150)\n",
    "    engine.setProperty('voice', engine.getProperty('voices')[1].id)\n",
    "    while loop:\n",
    "        audio = get_audio()\n",
    "        print(Color.BLUE + Color.BOLD + \"User:\", audio + Color.END) \n",
    "        new_user_input_ids = tokenizer.encode(audio + tokenizer.eos_token, return_tensors='pt')\n",
    "        bot_input_ids = torch.cat([chat_history_ids, new_user_input_ids], dim=-1) if step > 0 else new_user_input_ids\n",
    "        chat_history_ids = model.generate(bot_input_ids, max_length=1000, pad_token_id=tokenizer.eos_token_id)\n",
    "        response = \"{}\".format(tokenizer.decode(chat_history_ids[:, bot_input_ids.shape[-1]:][0], skip_special_tokens=True))\n",
    "        print(Color.RED + Color.BOLD + \"Chatbot: \" + response + Color.END)\n",
    "        engine.say(response)\n",
    "        engine.runAndWait()\n",
    "        step = 1\n",
    "        if \"bye\" in audio.lower():\n",
    "            loop = False\n",
    "    engine.stop()"
   ]
  },
  {
   "cell_type": "code",
   "execution_count": 3,
   "id": "e1ce863b",
   "metadata": {},
   "outputs": [
    {
     "name": "stdout",
     "output_type": "stream",
     "text": [
      "Listening...\n",
      "Recognizing...\n",
      "\u001b[94m\u001b[1mUser: Hi how are you\u001b[0m\n",
      "\u001b[91m\u001b[1mChatbot: I'm good, you?\u001b[0m\n",
      "Listening...\n",
      "Recognizing...\n",
      "\u001b[94m\u001b[1mUser: I'm doing well\u001b[0m\n",
      "\u001b[91m\u001b[1mChatbot: That's good\u001b[0m\n",
      "Listening...\n",
      "Recognizing...\n",
      "\u001b[94m\u001b[1mUser: where are you from\u001b[0m\n",
      "\u001b[91m\u001b[1mChatbot: I'm from the UK\u001b[0m\n",
      "Listening...\n",
      "Recognizing...\n",
      "\u001b[94m\u001b[1mUser: how is the weather there\u001b[0m\n",
      "\u001b[91m\u001b[1mChatbot: It's nice\u001b[0m\n",
      "Listening...\n",
      "Recognizing...\n",
      "\u001b[94m\u001b[1mUser: did you have lunch\u001b[0m\n",
      "\u001b[91m\u001b[1mChatbot: I did\u001b[0m\n",
      "Listening...\n",
      "Recognizing...\n",
      "\u001b[94m\u001b[1mUser: what did you eat\u001b[0m\n",
      "\u001b[91m\u001b[1mChatbot: I had a sandwich\u001b[0m\n",
      "Listening...\n",
      "Recognizing...\n",
      "\u001b[94m\u001b[1mUser: okay I have to go bye\u001b[0m\n",
      "\u001b[91m\u001b[1mChatbot: ok bye\u001b[0m\n"
     ]
    }
   ],
   "source": [
    "main()"
   ]
  }
 ],
 "metadata": {
  "kernelspec": {
   "display_name": "Python 3 (ipykernel)",
   "language": "python",
   "name": "python3"
  },
  "language_info": {
   "codemirror_mode": {
    "name": "ipython",
    "version": 3
   },
   "file_extension": ".py",
   "mimetype": "text/x-python",
   "name": "python",
   "nbconvert_exporter": "python",
   "pygments_lexer": "ipython3",
   "version": "3.9.5"
  }
 },
 "nbformat": 4,
 "nbformat_minor": 5
}
